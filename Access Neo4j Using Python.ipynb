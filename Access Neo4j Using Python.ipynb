{
 "cells": [
  {
   "cell_type": "code",
   "execution_count": 1,
   "id": "b24bc2ba",
   "metadata": {
    "scrolled": true
   },
   "outputs": [
    {
     "name": "stdout",
     "output_type": "stream",
     "text": [
      "Collecting neo4j\n",
      "  Downloading neo4j-4.4.2.tar.gz (89 kB)\n",
      "Requirement already satisfied: pytz in c:\\users\\sli\\anaconda3\\lib\\site-packages (from neo4j) (2021.1)\n",
      "Building wheels for collected packages: neo4j\n",
      "  Building wheel for neo4j (setup.py): started\n",
      "  Building wheel for neo4j (setup.py): finished with status 'done'\n",
      "  Created wheel for neo4j: filename=neo4j-4.4.2-py3-none-any.whl size=115338 sha256=4117124877b45132194c50f8a6a3e716e030699f89ec360abd895995fd2bd3e9\n",
      "  Stored in directory: c:\\users\\sli\\appdata\\local\\pip\\cache\\wheels\\b2\\eb\\0e\\c044a97207dcce32f7dc75dcdd5e29f275b3cfcde84da8980a\n",
      "Successfully built neo4j\n",
      "Installing collected packages: neo4j\n",
      "Successfully installed neo4j-4.4.2\n"
     ]
    }
   ],
   "source": [
    "!pip install neo4j"
   ]
  },
  {
   "cell_type": "code",
   "execution_count": 1,
   "id": "63849ac2",
   "metadata": {},
   "outputs": [],
   "source": [
    "# Import modules from neo4j library\n",
    "from neo4j import GraphDatabase, basic_auth\n",
    "\n",
    "# Establish connection with neo4j database\n",
    "# mention your host, port, username & password(default port is 7687 and default host is localhost)\n",
    "\n",
    "driver = GraphDatabase.driver(\"bolt://localhost:7687\", auth = basic_auth(\"neo4j\",\"12345\"))\n",
    "\n",
    "# create a neo4j session in python\n",
    "\n",
    "session = driver.session()"
   ]
  },
  {
   "cell_type": "code",
   "execution_count": 2,
   "id": "ea6ab4cd",
   "metadata": {},
   "outputs": [
    {
     "data": {
      "text/plain": [
       "<neo4j.work.result.Result at 0x1733655e2e0>"
      ]
     },
     "execution_count": 2,
     "metadata": {},
     "output_type": "execute_result"
    }
   ],
   "source": [
    "# store neo4j query as a string\n",
    "\n",
    "query='''\n",
    "match (u1:User)-[r:IS_RETWEETED_BY]->(u2:User)\n",
    "return u1.name as user_name, count(u2) as outDegree\n",
    "order by outDegree desc\n",
    "limit 10\n",
    "'''\n",
    "\n",
    "result = session.run(query)\n",
    "\n",
    "result"
   ]
  },
  {
   "cell_type": "code",
   "execution_count": 3,
   "id": "1b0e1801",
   "metadata": {},
   "outputs": [],
   "source": [
    "import pandas as pd\n",
    "result_df=pd.DataFrame(dict(_) for  _ in result)"
   ]
  },
  {
   "cell_type": "code",
   "execution_count": 4,
   "id": "35ebaaa1",
   "metadata": {
    "scrolled": true
   },
   "outputs": [
    {
     "data": {
      "text/html": [
       "<div>\n",
       "<style scoped>\n",
       "    .dataframe tbody tr th:only-of-type {\n",
       "        vertical-align: middle;\n",
       "    }\n",
       "\n",
       "    .dataframe tbody tr th {\n",
       "        vertical-align: top;\n",
       "    }\n",
       "\n",
       "    .dataframe thead th {\n",
       "        text-align: right;\n",
       "    }\n",
       "</style>\n",
       "<table border=\"1\" class=\"dataframe\">\n",
       "  <thead>\n",
       "    <tr style=\"text-align: right;\">\n",
       "      <th></th>\n",
       "      <th>user_name</th>\n",
       "      <th>outDegree</th>\n",
       "    </tr>\n",
       "  </thead>\n",
       "  <tbody>\n",
       "    <tr>\n",
       "      <th>0</th>\n",
       "      <td>DanielTurnerPTF</td>\n",
       "      <td>5504</td>\n",
       "    </tr>\n",
       "    <tr>\n",
       "      <th>1</th>\n",
       "      <td>IPCC_CH</td>\n",
       "      <td>5356</td>\n",
       "    </tr>\n",
       "    <tr>\n",
       "      <th>2</th>\n",
       "      <td>JackPosobiec</td>\n",
       "      <td>4419</td>\n",
       "    </tr>\n",
       "    <tr>\n",
       "      <th>3</th>\n",
       "      <td>JordanSchachtel</td>\n",
       "      <td>4215</td>\n",
       "    </tr>\n",
       "    <tr>\n",
       "      <th>4</th>\n",
       "      <td>SenSanders</td>\n",
       "      <td>2715</td>\n",
       "    </tr>\n",
       "    <tr>\n",
       "      <th>5</th>\n",
       "      <td>RepThomasMassie</td>\n",
       "      <td>2671</td>\n",
       "    </tr>\n",
       "    <tr>\n",
       "      <th>6</th>\n",
       "      <td>PeterSweden7</td>\n",
       "      <td>2621</td>\n",
       "    </tr>\n",
       "    <tr>\n",
       "      <th>7</th>\n",
       "      <td>cryptobri_</td>\n",
       "      <td>2555</td>\n",
       "    </tr>\n",
       "    <tr>\n",
       "      <th>8</th>\n",
       "      <td>RhinoSavannaNFT</td>\n",
       "      <td>2211</td>\n",
       "    </tr>\n",
       "    <tr>\n",
       "      <th>9</th>\n",
       "      <td>SadhguruJV</td>\n",
       "      <td>2072</td>\n",
       "    </tr>\n",
       "  </tbody>\n",
       "</table>\n",
       "</div>"
      ],
      "text/plain": [
       "         user_name  outDegree\n",
       "0  DanielTurnerPTF       5504\n",
       "1          IPCC_CH       5356\n",
       "2     JackPosobiec       4419\n",
       "3  JordanSchachtel       4215\n",
       "4       SenSanders       2715\n",
       "5  RepThomasMassie       2671\n",
       "6     PeterSweden7       2621\n",
       "7       cryptobri_       2555\n",
       "8  RhinoSavannaNFT       2211\n",
       "9       SadhguruJV       2072"
      ]
     },
     "execution_count": 4,
     "metadata": {},
     "output_type": "execute_result"
    }
   ],
   "source": [
    "result_df"
   ]
  },
  {
   "cell_type": "code",
   "execution_count": 21,
   "id": "f5c7efcc",
   "metadata": {
    "scrolled": true
   },
   "outputs": [
    {
     "data": {
      "text/html": [
       "<div>\n",
       "<style scoped>\n",
       "    .dataframe tbody tr th:only-of-type {\n",
       "        vertical-align: middle;\n",
       "    }\n",
       "\n",
       "    .dataframe tbody tr th {\n",
       "        vertical-align: top;\n",
       "    }\n",
       "\n",
       "    .dataframe thead th {\n",
       "        text-align: right;\n",
       "    }\n",
       "</style>\n",
       "<table border=\"1\" class=\"dataframe\">\n",
       "  <thead>\n",
       "    <tr style=\"text-align: right;\">\n",
       "      <th></th>\n",
       "      <th>user_name</th>\n",
       "      <th>NumberOfRetweetedUsers</th>\n",
       "    </tr>\n",
       "  </thead>\n",
       "  <tbody>\n",
       "    <tr>\n",
       "      <th>0</th>\n",
       "      <td>DanielTurnerPTF</td>\n",
       "      <td>5504</td>\n",
       "    </tr>\n",
       "    <tr>\n",
       "      <th>1</th>\n",
       "      <td>IPCC_CH</td>\n",
       "      <td>5356</td>\n",
       "    </tr>\n",
       "    <tr>\n",
       "      <th>2</th>\n",
       "      <td>JackPosobiec</td>\n",
       "      <td>4419</td>\n",
       "    </tr>\n",
       "    <tr>\n",
       "      <th>3</th>\n",
       "      <td>JordanSchachtel</td>\n",
       "      <td>4215</td>\n",
       "    </tr>\n",
       "    <tr>\n",
       "      <th>4</th>\n",
       "      <td>SenSanders</td>\n",
       "      <td>2715</td>\n",
       "    </tr>\n",
       "    <tr>\n",
       "      <th>5</th>\n",
       "      <td>RepThomasMassie</td>\n",
       "      <td>2671</td>\n",
       "    </tr>\n",
       "    <tr>\n",
       "      <th>6</th>\n",
       "      <td>PeterSweden7</td>\n",
       "      <td>2621</td>\n",
       "    </tr>\n",
       "    <tr>\n",
       "      <th>7</th>\n",
       "      <td>cryptobri_</td>\n",
       "      <td>2555</td>\n",
       "    </tr>\n",
       "    <tr>\n",
       "      <th>8</th>\n",
       "      <td>RhinoSavannaNFT</td>\n",
       "      <td>2211</td>\n",
       "    </tr>\n",
       "    <tr>\n",
       "      <th>9</th>\n",
       "      <td>SadhguruJV</td>\n",
       "      <td>2072</td>\n",
       "    </tr>\n",
       "  </tbody>\n",
       "</table>\n",
       "</div>"
      ],
      "text/plain": [
       "         user_name  NumberOfRetweetedUsers\n",
       "0  DanielTurnerPTF                    5504\n",
       "1          IPCC_CH                    5356\n",
       "2     JackPosobiec                    4419\n",
       "3  JordanSchachtel                    4215\n",
       "4       SenSanders                    2715\n",
       "5  RepThomasMassie                    2671\n",
       "6     PeterSweden7                    2621\n",
       "7       cryptobri_                    2555\n",
       "8  RhinoSavannaNFT                    2211\n",
       "9       SadhguruJV                    2072"
      ]
     },
     "execution_count": 21,
     "metadata": {},
     "output_type": "execute_result"
    }
   ],
   "source": [
    "# change column header\n",
    "\n",
    "result_df.columns=[\"user_name\", \"NumberOfRetweetedUsers\"]\n",
    "result_df"
   ]
  },
  {
   "cell_type": "code",
   "execution_count": 23,
   "id": "741f577c",
   "metadata": {},
   "outputs": [
    {
     "data": {
      "text/plain": [
       "<AxesSubplot:xlabel='NumberOfRetweetedUsers', ylabel='user_name'>"
      ]
     },
     "execution_count": 23,
     "metadata": {},
     "output_type": "execute_result"
    },
    {
     "data": {
      "image/png": "[encoded data removed]",
      "text/plain": [
       "<Figure size 1080x504 with 1 Axes>"
      ]
     },
     "metadata": {
      "needs_background": "light"
     },
     "output_type": "display_data"
    }
   ],
   "source": [
    "# visualize the result\n",
    "\n",
    "import matplotlib.pyplot as plt\n",
    "import seaborn as sns\n",
    "import pandas as pd\n",
    "\n",
    "# Set the figure size\n",
    "plt.figure(figsize=(15, 7))\n",
    "\n",
    "# use a sequential color with 10 variations\n",
    "palette=sns.color_palette(\"rocket\", 10)\n",
    "\n",
    "# plot a bar chart\n",
    "sns.barplot(\n",
    "    x=\"NumberOfRetweetedUsers\", \n",
    "    y=\"user_name\", \n",
    "    data=result_df, \n",
    "    palette=palette)"
   ]
  },
  {
   "cell_type": "code",
   "execution_count": 27,
   "id": "635c8c49",
   "metadata": {},
   "outputs": [
    {
     "data": {
      "text/plain": [
       "<neo4j.work.result.Result at 0x2a18691f910>"
      ]
     },
     "execution_count": 27,
     "metadata": {},
     "output_type": "execute_result"
    }
   ],
   "source": [
    "# Create a named graph\n",
    "\n",
    "query='''CALL gds.graph.create.cypher(\n",
    "    \"myGraph\", \n",
    "    \"MATCH (u:User) \n",
    "        RETURN id(u) as id\", \n",
    "    \"MATCH (u1:User)-[r:IS_RETWEETED_BY]->(u2:User)\n",
    "        RETURN id(u1) as source, id(u2) as target,  r.numRetweets as weight\"\n",
    ")\n",
    "'''\n",
    "session.run(query)"
   ]
  },
  {
   "cell_type": "code",
   "execution_count": 43,
   "id": "47a685c8",
   "metadata": {},
   "outputs": [
    {
     "data": {
      "text/html": [
       "<div>\n",
       "<style scoped>\n",
       "    .dataframe tbody tr th:only-of-type {\n",
       "        vertical-align: middle;\n",
       "    }\n",
       "\n",
       "    .dataframe tbody tr th {\n",
       "        vertical-align: top;\n",
       "    }\n",
       "\n",
       "    .dataframe thead th {\n",
       "        text-align: right;\n",
       "    }\n",
       "</style>\n",
       "<table border=\"1\" class=\"dataframe\">\n",
       "  <thead>\n",
       "    <tr style=\"text-align: right;\">\n",
       "      <th></th>\n",
       "      <th>user</th>\n",
       "      <th>score</th>\n",
       "    </tr>\n",
       "  </thead>\n",
       "  <tbody>\n",
       "    <tr>\n",
       "      <th>0</th>\n",
       "      <td>JFSebastian146</td>\n",
       "      <td>123.36</td>\n",
       "    </tr>\n",
       "    <tr>\n",
       "      <th>1</th>\n",
       "      <td>imagine_garden</td>\n",
       "      <td>31.44</td>\n",
       "    </tr>\n",
       "    <tr>\n",
       "      <th>2</th>\n",
       "      <td>Eco1stArt</td>\n",
       "      <td>29.72</td>\n",
       "    </tr>\n",
       "    <tr>\n",
       "      <th>3</th>\n",
       "      <td>trvestuff</td>\n",
       "      <td>26.65</td>\n",
       "    </tr>\n",
       "    <tr>\n",
       "      <th>4</th>\n",
       "      <td>jane__eden</td>\n",
       "      <td>21.47</td>\n",
       "    </tr>\n",
       "  </tbody>\n",
       "</table>\n",
       "</div>"
      ],
      "text/plain": [
       "             user   score\n",
       "0  JFSebastian146  123.36\n",
       "1  imagine_garden   31.44\n",
       "2       Eco1stArt   29.72\n",
       "3       trvestuff   26.65\n",
       "4      jane__eden   21.47"
      ]
     },
     "execution_count": 43,
     "metadata": {},
     "output_type": "execute_result"
    }
   ],
   "source": [
    "# calcualte page rank, list top 10 user based on page rank\n",
    "\n",
    "query1='''\n",
    "CALL gds.pageRank.stream(\n",
    "    \"myGraph\", {\n",
    "        relationshipWeightProperty: \"weight\"\n",
    "    }\n",
    ") YIELD nodeId, score\n",
    "RETURN gds.util.asNode(nodeId).name as user, round(score * 100)/100 as score\n",
    "ORDER BY score desc\n",
    "limit 10\n",
    "'''\n",
    "\n",
    "result=session.run(query1)\n",
    "\n",
    "result_df=pd.DataFrame(dict(_) for  _ in result)\n",
    "\n",
    "result_df.head()"
   ]
  },
  {
   "cell_type": "code",
   "execution_count": 46,
   "id": "3ed2bee4",
   "metadata": {},
   "outputs": [
    {
     "data": {
      "text/plain": [
       "Text(0.5, 1.0, 'Top 10 Users by Page Rank Score')"
      ]
     },
     "execution_count": 46,
     "metadata": {},
     "output_type": "execute_result"
    },
    {
     "data": {
      "image/png": "[encoded data removed]",
      "text/plain": [
       "<Figure size 1080x504 with 1 Axes>"
      ]
     },
     "metadata": {
      "needs_background": "light"
     },
     "output_type": "display_data"
    }
   ],
   "source": [
    "# visualize the result\n",
    "\n",
    "import matplotlib.pyplot as plt\n",
    "import seaborn as sns\n",
    "import pandas as pd\n",
    "\n",
    "# Set the figure size\n",
    "plt.figure(figsize=(15, 7))\n",
    "\n",
    "# use a sequential color with 10 variations\n",
    "palette=sns.color_palette(\"rocket\", 10)\n",
    "\n",
    "# plot a bar chart\n",
    "ax=sns.barplot(\n",
    "    x=\"score\", \n",
    "    y=\"user\", \n",
    "    data=result_df, \n",
    "    palette=palette)\n",
    "\n",
    "ax.set_title(\"Top 10 Users by Page Rank Score\")"
   ]
  },
  {
   "cell_type": "code",
   "execution_count": 31,
   "id": "e9c8aece",
   "metadata": {
    "scrolled": false
   },
   "outputs": [
    {
     "data": {
      "text/html": [
       "<div>\n",
       "<style scoped>\n",
       "    .dataframe tbody tr th:only-of-type {\n",
       "        vertical-align: middle;\n",
       "    }\n",
       "\n",
       "    .dataframe tbody tr th {\n",
       "        vertical-align: top;\n",
       "    }\n",
       "\n",
       "    .dataframe thead th {\n",
       "        text-align: right;\n",
       "    }\n",
       "</style>\n",
       "<table border=\"1\" class=\"dataframe\">\n",
       "  <thead>\n",
       "    <tr style=\"text-align: right;\">\n",
       "      <th></th>\n",
       "      <th>u.name</th>\n",
       "      <th>u.betweenness</th>\n",
       "      <th>u.closeness</th>\n",
       "      <th>u.eigenvector</th>\n",
       "      <th>u.favorites</th>\n",
       "      <th>u.followers</th>\n",
       "      <th>u.friends</th>\n",
       "      <th>u.joining_year</th>\n",
       "      <th>u.location</th>\n",
       "      <th>u.pageRank</th>\n",
       "    </tr>\n",
       "  </thead>\n",
       "  <tbody>\n",
       "    <tr>\n",
       "      <th>0</th>\n",
       "      <td>SyShere</td>\n",
       "      <td>0.0</td>\n",
       "      <td>0.0</td>\n",
       "      <td>0.000004</td>\n",
       "      <td>55969</td>\n",
       "      <td>577</td>\n",
       "      <td>569</td>\n",
       "      <td>2013</td>\n",
       "      <td>Poland</td>\n",
       "      <td>0.150000</td>\n",
       "    </tr>\n",
       "    <tr>\n",
       "      <th>1</th>\n",
       "      <td>CarmelKielty1</td>\n",
       "      <td>0.0</td>\n",
       "      <td>0.0</td>\n",
       "      <td>0.000004</td>\n",
       "      <td>17228</td>\n",
       "      <td>330</td>\n",
       "      <td>792</td>\n",
       "      <td>2019</td>\n",
       "      <td>None</td>\n",
       "      <td>0.150000</td>\n",
       "    </tr>\n",
       "    <tr>\n",
       "      <th>2</th>\n",
       "      <td>johngleeson52</td>\n",
       "      <td>0.0</td>\n",
       "      <td>0.0</td>\n",
       "      <td>0.090791</td>\n",
       "      <td>359</td>\n",
       "      <td>1250</td>\n",
       "      <td>1144</td>\n",
       "      <td>2016</td>\n",
       "      <td>Australia</td>\n",
       "      <td>0.151633</td>\n",
       "    </tr>\n",
       "    <tr>\n",
       "      <th>3</th>\n",
       "      <td>tb_moshabi</td>\n",
       "      <td>0.0</td>\n",
       "      <td>0.0</td>\n",
       "      <td>0.000004</td>\n",
       "      <td>16404</td>\n",
       "      <td>759</td>\n",
       "      <td>1173</td>\n",
       "      <td>2018</td>\n",
       "      <td>South Africa</td>\n",
       "      <td>0.150000</td>\n",
       "    </tr>\n",
       "    <tr>\n",
       "      <th>4</th>\n",
       "      <td>BlokeStokey</td>\n",
       "      <td>0.0</td>\n",
       "      <td>0.0</td>\n",
       "      <td>0.000007</td>\n",
       "      <td>65504</td>\n",
       "      <td>709</td>\n",
       "      <td>1300</td>\n",
       "      <td>2019</td>\n",
       "      <td>Great Britian</td>\n",
       "      <td>0.150213</td>\n",
       "    </tr>\n",
       "  </tbody>\n",
       "</table>\n",
       "</div>"
      ],
      "text/plain": [
       "          u.name  u.betweenness  u.closeness  u.eigenvector  u.favorites  \\\n",
       "0        SyShere            0.0          0.0       0.000004        55969   \n",
       "1  CarmelKielty1            0.0          0.0       0.000004        17228   \n",
       "2  johngleeson52            0.0          0.0       0.090791          359   \n",
       "3     tb_moshabi            0.0          0.0       0.000004        16404   \n",
       "4    BlokeStokey            0.0          0.0       0.000007        65504   \n",
       "\n",
       "   u.followers  u.friends  u.joining_year     u.location  u.pageRank  \n",
       "0          577        569            2013         Poland    0.150000  \n",
       "1          330        792            2019           None    0.150000  \n",
       "2         1250       1144            2016      Australia    0.151633  \n",
       "3          759       1173            2018   South Africa    0.150000  \n",
       "4          709       1300            2019  Great Britian    0.150213  "
      ]
     },
     "execution_count": 31,
     "metadata": {},
     "output_type": "execute_result"
    }
   ],
   "source": [
    "# retrieve all properties of a user\n",
    "\n",
    "query='''\n",
    "match (u:User)\n",
    "return u.name, u.betweenness, u.closeness, u.eigenvector, u.favorites, u.followers, u.friends, u.joining_year, u.location, u.pageRank\n",
    "'''\n",
    "\n",
    "result=session.run(query)\n",
    "\n",
    "result_df=pd.DataFrame(dict(_) for  _ in result)\n",
    "\n",
    "result_df.head()"
   ]
  },
  {
   "cell_type": "code",
   "execution_count": 39,
   "id": "ee38feb8",
   "metadata": {
    "scrolled": true
   },
   "outputs": [
    {
     "data": {
      "text/html": [
       "<div>\n",
       "<style scoped>\n",
       "    .dataframe tbody tr th:only-of-type {\n",
       "        vertical-align: middle;\n",
       "    }\n",
       "\n",
       "    .dataframe tbody tr th {\n",
       "        vertical-align: top;\n",
       "    }\n",
       "\n",
       "    .dataframe thead th {\n",
       "        text-align: right;\n",
       "    }\n",
       "</style>\n",
       "<table border=\"1\" class=\"dataframe\">\n",
       "  <thead>\n",
       "    <tr style=\"text-align: right;\">\n",
       "      <th></th>\n",
       "      <th>User Name</th>\n",
       "      <th>Betweenness</th>\n",
       "    </tr>\n",
       "  </thead>\n",
       "  <tbody>\n",
       "    <tr>\n",
       "      <th>237471</th>\n",
       "      <td>SaleemulHuq</td>\n",
       "      <td>3.803909e+07</td>\n",
       "    </tr>\n",
       "    <tr>\n",
       "      <th>217527</th>\n",
       "      <td>LeoHickman</td>\n",
       "      <td>2.222626e+07</td>\n",
       "    </tr>\n",
       "    <tr>\n",
       "      <th>155557</th>\n",
       "      <td>PFriedling</td>\n",
       "      <td>2.184407e+07</td>\n",
       "    </tr>\n",
       "    <tr>\n",
       "      <th>174805</th>\n",
       "      <td>ECOWARRIORSS</td>\n",
       "      <td>1.449229e+07</td>\n",
       "    </tr>\n",
       "    <tr>\n",
       "      <th>147711</th>\n",
       "      <td>takvera</td>\n",
       "      <td>1.041254e+07</td>\n",
       "    </tr>\n",
       "    <tr>\n",
       "      <th>247095</th>\n",
       "      <td>redmayne_robert</td>\n",
       "      <td>9.935590e+06</td>\n",
       "    </tr>\n",
       "    <tr>\n",
       "      <th>177565</th>\n",
       "      <td>timonmcphearson</td>\n",
       "      <td>9.918524e+06</td>\n",
       "    </tr>\n",
       "    <tr>\n",
       "      <th>122607</th>\n",
       "      <td>schipper_lisa</td>\n",
       "      <td>9.891530e+06</td>\n",
       "    </tr>\n",
       "    <tr>\n",
       "      <th>240869</th>\n",
       "      <td>wormmaps</td>\n",
       "      <td>9.608424e+06</td>\n",
       "    </tr>\n",
       "    <tr>\n",
       "      <th>14982</th>\n",
       "      <td>christrisos</td>\n",
       "      <td>9.598565e+06</td>\n",
       "    </tr>\n",
       "  </tbody>\n",
       "</table>\n",
       "</div>"
      ],
      "text/plain": [
       "              User Name   Betweenness\n",
       "237471      SaleemulHuq  3.803909e+07\n",
       "217527       LeoHickman  2.222626e+07\n",
       "155557       PFriedling  2.184407e+07\n",
       "174805     ECOWARRIORSS  1.449229e+07\n",
       "147711          takvera  1.041254e+07\n",
       "247095  redmayne_robert  9.935590e+06\n",
       "177565  timonmcphearson  9.918524e+06\n",
       "122607    schipper_lisa  9.891530e+06\n",
       "240869         wormmaps  9.608424e+06\n",
       "14982       christrisos  9.598565e+06"
      ]
     },
     "execution_count": 39,
     "metadata": {},
     "output_type": "execute_result"
    }
   ],
   "source": [
    "# top 10 users by betweenness centrality\n",
    "\n",
    "result_df1=result_df.sort_values('u.betweenness', ascending=False)[['u.name', 'u.betweenness']].head(10)\n",
    "\n",
    "result_df1.columns=['User Name', 'Betweenness']\n",
    "\n",
    "result_df1"
   ]
  },
  {
   "cell_type": "code",
   "execution_count": 40,
   "id": "3632ad14",
   "metadata": {},
   "outputs": [
    {
     "data": {
      "text/plain": [
       "Text(0.5, 1.0, 'Top 10 Users by Betweeness Centrality')"
      ]
     },
     "execution_count": 40,
     "metadata": {},
     "output_type": "execute_result"
    },
    {
     "data": {
      "image/png": "[encoded data removed]",
      "text/plain": [
       "<Figure size 720x576 with 1 Axes>"
      ]
     },
     "metadata": {
      "needs_background": "light"
     },
     "output_type": "display_data"
    }
   ],
   "source": [
    "import matplotlib.pyplot as plt\n",
    "import seaborn as sns\n",
    "\n",
    "plt.rcParams[\"figure.figsize\"] = [10,8]\n",
    "\n",
    "# use a sequential color with 10 variations\n",
    "palette=sns.color_palette(\"rocket\", 10)\n",
    "\n",
    "# plot a bar chart\n",
    "ax=sns.barplot(\n",
    "    x=\"Betweenness\", \n",
    "    y=\"User Name\", \n",
    "    data=result_df1, \n",
    "    palette=palette)\n",
    "\n",
    "ax.set_title(\"Top 10 Users by Betweeness Centrality\")"
   ]
  },
  {
   "cell_type": "code",
   "execution_count": 44,
   "id": "99c21ac7",
   "metadata": {},
   "outputs": [
    {
     "data": {
      "text/plain": [
       "2022"
      ]
     },
     "execution_count": 44,
     "metadata": {},
     "output_type": "execute_result"
    }
   ],
   "source": [
    "import datetime as dt\n",
    "\n",
    "dt.datetime.today().year"
   ]
  },
  {
   "cell_type": "code",
   "execution_count": 45,
   "id": "25ce3aa3",
   "metadata": {
    "scrolled": false
   },
   "outputs": [
    {
     "data": {
      "text/html": [
       "<div>\n",
       "<style scoped>\n",
       "    .dataframe tbody tr th:only-of-type {\n",
       "        vertical-align: middle;\n",
       "    }\n",
       "\n",
       "    .dataframe tbody tr th {\n",
       "        vertical-align: top;\n",
       "    }\n",
       "\n",
       "    .dataframe thead th {\n",
       "        text-align: right;\n",
       "    }\n",
       "</style>\n",
       "<table border=\"1\" class=\"dataframe\">\n",
       "  <thead>\n",
       "    <tr style=\"text-align: right;\">\n",
       "      <th></th>\n",
       "      <th>u.betweenness</th>\n",
       "      <th>u.closeness</th>\n",
       "      <th>u.eigenvector</th>\n",
       "      <th>u.favorites</th>\n",
       "      <th>u.followers</th>\n",
       "      <th>u.friends</th>\n",
       "      <th>u.pageRank</th>\n",
       "      <th>YearsJoining</th>\n",
       "    </tr>\n",
       "  </thead>\n",
       "  <tbody>\n",
       "    <tr>\n",
       "      <th>u.betweenness</th>\n",
       "      <td>1.000000</td>\n",
       "      <td>0.004722</td>\n",
       "      <td>0.206899</td>\n",
       "      <td>0.003186</td>\n",
       "      <td>0.003897</td>\n",
       "      <td>0.023017</td>\n",
       "      <td>0.043096</td>\n",
       "      <td>0.006541</td>\n",
       "    </tr>\n",
       "    <tr>\n",
       "      <th>u.closeness</th>\n",
       "      <td>0.004722</td>\n",
       "      <td>1.000000</td>\n",
       "      <td>-0.003303</td>\n",
       "      <td>-0.005206</td>\n",
       "      <td>0.013343</td>\n",
       "      <td>0.013028</td>\n",
       "      <td>0.001929</td>\n",
       "      <td>0.009993</td>\n",
       "    </tr>\n",
       "    <tr>\n",
       "      <th>u.eigenvector</th>\n",
       "      <td>0.206899</td>\n",
       "      <td>-0.003303</td>\n",
       "      <td>1.000000</td>\n",
       "      <td>0.033871</td>\n",
       "      <td>-0.001428</td>\n",
       "      <td>0.033400</td>\n",
       "      <td>0.374865</td>\n",
       "      <td>-0.001437</td>\n",
       "    </tr>\n",
       "    <tr>\n",
       "      <th>u.favorites</th>\n",
       "      <td>0.003186</td>\n",
       "      <td>-0.005206</td>\n",
       "      <td>0.033871</td>\n",
       "      <td>1.000000</td>\n",
       "      <td>-0.006021</td>\n",
       "      <td>0.173572</td>\n",
       "      <td>0.019790</td>\n",
       "      <td>0.147304</td>\n",
       "    </tr>\n",
       "    <tr>\n",
       "      <th>u.followers</th>\n",
       "      <td>0.003897</td>\n",
       "      <td>0.013343</td>\n",
       "      <td>-0.001428</td>\n",
       "      <td>-0.006021</td>\n",
       "      <td>1.000000</td>\n",
       "      <td>0.125044</td>\n",
       "      <td>-0.000909</td>\n",
       "      <td>0.030064</td>\n",
       "    </tr>\n",
       "    <tr>\n",
       "      <th>u.friends</th>\n",
       "      <td>0.023017</td>\n",
       "      <td>0.013028</td>\n",
       "      <td>0.033400</td>\n",
       "      <td>0.173572</td>\n",
       "      <td>0.125044</td>\n",
       "      <td>1.000000</td>\n",
       "      <td>0.009086</td>\n",
       "      <td>0.112197</td>\n",
       "    </tr>\n",
       "    <tr>\n",
       "      <th>u.pageRank</th>\n",
       "      <td>0.043096</td>\n",
       "      <td>0.001929</td>\n",
       "      <td>0.374865</td>\n",
       "      <td>0.019790</td>\n",
       "      <td>-0.000909</td>\n",
       "      <td>0.009086</td>\n",
       "      <td>1.000000</td>\n",
       "      <td>0.003502</td>\n",
       "    </tr>\n",
       "    <tr>\n",
       "      <th>YearsJoining</th>\n",
       "      <td>0.006541</td>\n",
       "      <td>0.009993</td>\n",
       "      <td>-0.001437</td>\n",
       "      <td>0.147304</td>\n",
       "      <td>0.030064</td>\n",
       "      <td>0.112197</td>\n",
       "      <td>0.003502</td>\n",
       "      <td>1.000000</td>\n",
       "    </tr>\n",
       "  </tbody>\n",
       "</table>\n",
       "</div>"
      ],
      "text/plain": [
       "               u.betweenness  u.closeness  u.eigenvector  u.favorites  \\\n",
       "u.betweenness       1.000000     0.004722       0.206899     0.003186   \n",
       "u.closeness         0.004722     1.000000      -0.003303    -0.005206   \n",
       "u.eigenvector       0.206899    -0.003303       1.000000     0.033871   \n",
       "u.favorites         0.003186    -0.005206       0.033871     1.000000   \n",
       "u.followers         0.003897     0.013343      -0.001428    -0.006021   \n",
       "u.friends           0.023017     0.013028       0.033400     0.173572   \n",
       "u.pageRank          0.043096     0.001929       0.374865     0.019790   \n",
       "YearsJoining        0.006541     0.009993      -0.001437     0.147304   \n",
       "\n",
       "               u.followers  u.friends  u.pageRank  YearsJoining  \n",
       "u.betweenness     0.003897   0.023017    0.043096      0.006541  \n",
       "u.closeness       0.013343   0.013028    0.001929      0.009993  \n",
       "u.eigenvector    -0.001428   0.033400    0.374865     -0.001437  \n",
       "u.favorites      -0.006021   0.173572    0.019790      0.147304  \n",
       "u.followers       1.000000   0.125044   -0.000909      0.030064  \n",
       "u.friends         0.125044   1.000000    0.009086      0.112197  \n",
       "u.pageRank       -0.000909   0.009086    1.000000      0.003502  \n",
       "YearsJoining      0.030064   0.112197    0.003502      1.000000  "
      ]
     },
     "execution_count": 45,
     "metadata": {},
     "output_type": "execute_result"
    }
   ],
   "source": [
    "# calculate the number of joinning year\n",
    "import datetime as dt\n",
    "\n",
    "current_year=dt.datetime.today().year\n",
    "\n",
    "result_df['YearsJoining']=current_year-result_df['u.joining_year']\n",
    "\n",
    "result_df1=result_df.drop(columns=\"u.joining_year\")\n",
    "\n",
    "result_df1.corr()"
   ]
  },
  {
   "cell_type": "code",
   "execution_count": 46,
   "id": "72bafbd1",
   "metadata": {},
   "outputs": [
    {
     "data": {
      "text/plain": [
       "<AxesSubplot:>"
      ]
     },
     "execution_count": 46,
     "metadata": {},
     "output_type": "execute_result"
    },
    {
     "data": {
      "image/png": "[encoded data removed]",
      "text/plain": [
       "<Figure size 720x576 with 2 Axes>"
      ]
     },
     "metadata": {
      "needs_background": "light"
     },
     "output_type": "display_data"
    }
   ],
   "source": [
    "# create a heat map to see whether there is any correlation between centrality metrices and a user's property.\n",
    "\n",
    "import matplotlib.pyplot as plt\n",
    "import seaborn as sns\n",
    "plt.rcParams[\"figure.figsize\"] = [10,8]\n",
    "\n",
    "\n",
    "corr_values = result_df1.corr()\n",
    "sns.heatmap(corr_values, annot= True)"
   ]
  },
  {
   "cell_type": "code",
   "execution_count": 47,
   "id": "d6ff638e",
   "metadata": {},
   "outputs": [],
   "source": [
    "# you may close the connection after finishing with the queries\n",
    "\n",
    "session.close()"
   ]
  },
  {
   "cell_type": "code",
   "execution_count": null,
   "id": "9b8b8381",
   "metadata": {},
   "outputs": [],
   "source": []
  },
  {
   "cell_type": "code",
   "execution_count": null,
   "id": "f4d6b8aa",
   "metadata": {},
   "outputs": [],
   "source": []
  }
 ],
 "metadata": {
  "kernelspec": {
   "display_name": "Python 3 (ipykernel)",
   "language": "python",
   "name": "python3"
  },
  "language_info": {
   "codemirror_mode": {
    "name": "ipython",
    "version": 3
   },
   "file_extension": ".py",
   "mimetype": "text/x-python",
   "name": "python",
   "nbconvert_exporter": "python",
   "pygments_lexer": "ipython3",
   "version": "3.8.3"
  }
 },
 "nbformat": 4,
 "nbformat_minor": 5
}
