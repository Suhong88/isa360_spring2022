{
 "cells": [
  {
   "cell_type": "code",
   "execution_count": 1,
   "metadata": {},
   "outputs": [
    {
     "name": "stdout",
     "output_type": "stream",
     "text": [
      "Requirement already satisfied: pymongo==3.11.3 in c:\\users\\sli\\anaconda3\\lib\\site-packages (3.11.3)\n"
     ]
    }
   ],
   "source": [
    "# install pymongo if not installed\n",
    "\n",
    "#! pip install pymongo==3.11.3"
   ]
  },
  {
   "cell_type": "code",
   "execution_count": null,
   "metadata": {},
   "outputs": [],
   "source": [
    "from pymongo import MongoClient\n",
    "import pandas as pd\n",
    "\n",
    "# connect to local mongodb and database test\n",
    " \n",
    "MONGO_HOST= 'mongodb://localhost:27017/test'\n",
    "\n",
    "client = MongoClient(MONGO_HOST)\n",
    "\n",
    "# select database\n",
    "db=client['test']\n",
    "\n",
    "#select the collection within the database\n",
    "collection = db.healthImpact"
   ]
  },
  {
   "cell_type": "code",
   "execution_count": null,
   "metadata": {
    "scrolled": true
   },
   "outputs": [],
   "source": [
    "# create a pipeline to extract certain fields\n",
    "\n",
    "pipeline =[\n",
    "   {\"$project\": {\n",
    "   \"tweet_id\": \"$id_str\",\n",
    "    \"created_at\":1,\n",
    "    \"user_name\":\"$user.name\",\n",
    "    \"user_screenName\": \"$user.screen_name\",\n",
    "    \"text\":1,\n",
    "    \"source\":1,\n",
    "    \"place\":1,\n",
    "     \"lang\":1,\n",
    "     \"_id\":0\n",
    "  }\n",
    "  }\n",
    "]\n",
    "\n",
    "result=collection.aggregate(pipeline)\n",
    "\n",
    "result_list=[]  # create an array to store the result\n",
    "\n",
    "for res in result:\n",
    "    #print(res)\n",
    "    result_list.append(res)\n",
    "    \n",
    "result_list\n",
    "\n",
    "# convert result list into pandas data frame\n",
    "\n",
    "result_pd = pd.DataFrame(list(result_list))\n",
    "\n",
    "result_pd.head()"
   ]
  },
  {
   "cell_type": "code",
   "execution_count": 3,
   "metadata": {},
   "outputs": [
    {
     "name": "stdout",
     "output_type": "stream",
     "text": [
      "Requirement already satisfied: text2emotion in c:\\users\\sli\\anaconda3\\lib\\site-packages (0.0.5)\n",
      "Requirement already satisfied: nltk in c:\\users\\sli\\anaconda3\\lib\\site-packages (from text2emotion) (3.6.2)\n",
      "Requirement already satisfied: emoji>=0.6.0 in c:\\users\\sli\\anaconda3\\lib\\site-packages (from text2emotion) (1.7.0)\n",
      "Requirement already satisfied: tqdm in c:\\users\\sli\\anaconda3\\lib\\site-packages (from nltk->text2emotion) (4.62.1)\n",
      "Requirement already satisfied: click in c:\\users\\sli\\anaconda3\\lib\\site-packages (from nltk->text2emotion) (8.0.1)\n",
      "Requirement already satisfied: regex in c:\\users\\sli\\anaconda3\\lib\\site-packages (from nltk->text2emotion) (2021.8.3)\n",
      "Requirement already satisfied: joblib in c:\\users\\sli\\anaconda3\\lib\\site-packages (from nltk->text2emotion) (1.0.1)\n",
      "Requirement already satisfied: colorama in c:\\users\\sli\\anaconda3\\lib\\site-packages (from click->nltk->text2emotion) (0.4.4)\n"
     ]
    }
   ],
   "source": [
    "!pip install text2emotion"
   ]
  },
  {
   "cell_type": "code",
   "execution_count": null,
   "metadata": {},
   "outputs": [],
   "source": [
    "# create a fuction to return emotion based on text\n",
    "import text2emotion as te\n",
    "\n",
    "def return_emotion(text):\n",
    "    return te.get_emotion(text)"
   ]
  },
  {
   "cell_type": "code",
   "execution_count": 5,
   "metadata": {},
   "outputs": [
    {
     "data": {
      "text/plain": [
       "'RT @DrBrendaMTR: Love this! Sleep is vital for optimal for human health … human health and environmental health are interconnected, sleep m…'"
      ]
     },
     "execution_count": 5,
     "metadata": {},
     "output_type": "execute_result"
    }
   ],
   "source": [
    "result_pd['text'][0]"
   ]
  },
  {
   "cell_type": "code",
   "execution_count": 6,
   "metadata": {},
   "outputs": [
    {
     "data": {
      "text/plain": [
       "{'Happy': 1.0, 'Angry': 0.0, 'Surprise': 0.0, 'Sad': 0.0, 'Fear': 0.0}"
      ]
     },
     "execution_count": 6,
     "metadata": {},
     "output_type": "execute_result"
    }
   ],
   "source": [
    "return_emotion(result_pd['text'][0])"
   ]
  },
  {
   "cell_type": "code",
   "execution_count": 7,
   "metadata": {
    "scrolled": true
   },
   "outputs": [
    {
     "name": "stdout",
     "output_type": "stream",
     "text": [
      "RT @DrBrendaMTR: Love this! Sleep is vital for optimal for human health … human health and environmental health are interconnected, sleep m… {'Happy': 1.0, 'Angry': 0.0, 'Surprise': 0.0, 'Sad': 0.0, 'Fear': 0.0}\n",
      "RT @J_YouthAdvocate: Plastics threatens ocean health, the health of marine species, food safety and quality, human health, coastal tourism,… {'Happy': 0.0, 'Angry': 0.0, 'Surprise': 0.0, 'Sad': 0.0, 'Fear': 1.0}\n",
      "RT @J_YouthAdvocate: Plastics threatens ocean health, the health of marine species, food safety and quality, human health, coastal tourism,… {'Happy': 0.0, 'Angry': 0.0, 'Surprise': 0.0, 'Sad': 0.0, 'Fear': 1.0}\n",
      "RT @thewyliekate1: Climate change is a health issue. Health professionals need to advocate for climate action to protect human health. By j… {'Happy': 0.5, 'Angry': 0.0, 'Surprise': 0.0, 'Sad': 0.0, 'Fear': 0.5}\n",
      "RT @thewyliekate1: Climate change is a health issue. Health professionals need to advocate for climate action to protect human health. By j… {'Happy': 0.5, 'Angry': 0.0, 'Surprise': 0.0, 'Sad': 0.0, 'Fear': 0.5}\n",
      "RT @AbukaAlfred: Plastics threatens ocean health, the health of marine species, food safety and quality, human health, coastal tourism, and… {'Happy': 0.0, 'Angry': 0.0, 'Surprise': 0.0, 'Sad': 0.0, 'Fear': 1.0}\n",
      "RT @AbukaAlfred: Plastics threatens ocean health, the health of marine species, food safety and quality, human health, coastal tourism, and… {'Happy': 0.0, 'Angry': 0.0, 'Surprise': 0.0, 'Sad': 0.0, 'Fear': 1.0}\n",
      "RT @AbukaAlfred: Plastics threatens ocean health, the health of marine species, food safety and quality, human health, coastal tourism, and… {'Happy': 0.0, 'Angry': 0.0, 'Surprise': 0.0, 'Sad': 0.0, 'Fear': 1.0}\n",
      "RT @J_YouthAdvocate: Plastics threatens ocean health, the health of marine species, food safety and quality, human health, coastal tourism,… {'Happy': 0.0, 'Angry': 0.0, 'Surprise': 0.0, 'Sad': 0.0, 'Fear': 1.0}\n",
      "RT @J_YouthAdvocate: Plastics threatens ocean health, the health of marine species, food safety and quality, human health, coastal tourism,… {'Happy': 0.0, 'Angry': 0.0, 'Surprise': 0.0, 'Sad': 0.0, 'Fear': 1.0}\n"
     ]
    }
   ],
   "source": [
    "for i in range(0, 10):\n",
    "    print(result_pd['text'][i], return_emotion(result_pd['text'][i]))"
   ]
  },
  {
   "cell_type": "code",
   "execution_count": 8,
   "metadata": {},
   "outputs": [
    {
     "data": {
      "text/plain": [
       "5967"
      ]
     },
     "execution_count": 8,
     "metadata": {},
     "output_type": "execute_result"
    }
   ],
   "source": [
    "result_pd['text'].count()"
   ]
  },
  {
   "cell_type": "code",
   "execution_count": 9,
   "metadata": {},
   "outputs": [],
   "source": [
    "# apply return emotion to entire dataset\n",
    "\n",
    "result_pd['emotion']=result_pd['text'].apply(return_emotion)"
   ]
  },
  {
   "cell_type": "code",
   "execution_count": 10,
   "metadata": {},
   "outputs": [],
   "source": [
    "result_pd.to_csv('healthImpact_emotion', index=False)"
   ]
  },
  {
   "cell_type": "code",
   "execution_count": null,
   "metadata": {},
   "outputs": [],
   "source": []
  }
 ],
 "metadata": {
  "kernelspec": {
   "display_name": "Python 3 (ipykernel)",
   "language": "python",
   "name": "python3"
  },
  "language_info": {
   "codemirror_mode": {
    "name": "ipython",
    "version": 3
   },
   "file_extension": ".py",
   "mimetype": "text/x-python",
   "name": "python",
   "nbconvert_exporter": "python",
   "pygments_lexer": "ipython3",
   "version": "3.8.3"
  },
  "toc": {
   "base_numbering": 1,
   "nav_menu": {},
   "number_sections": true,
   "sideBar": true,
   "skip_h1_title": false,
   "title_cell": "Table of Contents",
   "title_sidebar": "Contents",
   "toc_cell": false,
   "toc_position": {},
   "toc_section_display": true,
   "toc_window_display": false
  }
 },
 "nbformat": 4,
 "nbformat_minor": 2
}
